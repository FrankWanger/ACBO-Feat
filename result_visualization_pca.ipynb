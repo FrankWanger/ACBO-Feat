{
 "cells": [
  {
   "cell_type": "markdown",
   "id": "e2012633-b938-4af7-b79e-35a101ce29f7",
   "metadata": {},
   "source": [
    "# Visualizing BO results"
   ]
  },
  {
   "cell_type": "markdown",
   "id": "bf4a0a0a-5a02-41c1-8e25-575917f1342d",
   "metadata": {},
   "source": [
    "## Feature selection comparison mordred vs. rdkit"
   ]
  },
  {
   "cell_type": "code",
   "execution_count": 1,
   "id": "9fb5f790-77aa-474a-942f-2a9f091fbd8d",
   "metadata": {},
   "outputs": [],
   "source": [
    "import numpy as np"
   ]
  },
  {
   "cell_type": "code",
   "execution_count": 2,
   "id": "3b7e8615-d8f3-461a-9095-70f2dfe484e1",
   "metadata": {},
   "outputs": [],
   "source": [
    "#load the data for ground truth checking\n",
    "from data_helper import load_lipo_feat\n",
    "X, y = load_lipo_feat(filename='data/lipo_{}.csv'.format('rdkit'))\n",
    "\n",
    "# count the number of molecules added in each iteration are above the threshold\n",
    "def hit_count(y, threshold, mol_added):\n",
    "    num_trial = len(mol_added)\n",
    "    num_iter = len(mol_added[0])\n",
    "    hit_count = np.zeros((num_trial,num_iter))\n",
    "    for trial in range(num_trial):\n",
    "        mol_above_threshold = []\n",
    "        counter = 0\n",
    "        for mol_index in mol_added[trial]:\n",
    "            if y[int(mol_index)] > threshold:\n",
    "                counter += 1\n",
    "            mol_above_threshold.append(counter)\n",
    "        hit_count[trial] = mol_above_threshold\n",
    "    return hit_count\n",
    "\n"
   ]
  },
  {
   "cell_type": "code",
   "execution_count": 3,
   "id": "601d23a3-e5f7-4ee0-87ff-756ff60b0ab2",
   "metadata": {},
   "outputs": [],
   "source": [
    "# pca retain var of 0.9 results in 46 components for rdkit and 50 for mordred\n",
    "rdkit_gprq_pca9 = np.load('./results/fair_split_trial50_pca0.9/lipo_rdkit_ratio0.1_iter20_trial50GPRQ.npy', allow_pickle=True).item()\n",
    "mordred_gprq_pca9 = np.load('./results/fair_split_trial50_pca0.9/lipo_mordred_ratio0.1_iter20_trial50GPRQ.npy', allow_pickle=True).item()\n",
    "rdkit_gprq_pca8 = np.load('./results/fair_split_trial50_pca0.8/lipo_rdkit_ratio0.1_iter20_trial50GPRQ.npy', allow_pickle=True).item()\n",
    "mordred_gprq_pca8 = np.load('./results/fair_split_trial50_pca0.8/lipo_mordred_ratio0.1_iter20_trial50GPRQ.npy', allow_pickle=True).item()\n",
    "ecfp_tanimoto_pca9 = np.load('./results/fair_split_trial50_pca0.9/lipo_ecfp_ratio0.1_iter20_trial50GPTanimoto.npy', allow_pickle=True).item()\n",
    "ecfp_tanimoto_pca8 = np.load('./results/fair_split_trial50_pca0.8/lipo_ecfp_ratio0.1_iter20_trial50GPTanimoto.npy', allow_pickle=True).item()\n",
    "e3fp_tani_pca9 = np.load('./results/fair_split_trial50_pca0.9/lipo_e3fp_ratio0.1_iter20_trial50GPTanimoto.npy', allow_pickle=True).item()\n",
    "e3fp_tani_pca8 = np.load('./results/fair_split_trial50_pca0.8/lipo_e3fp_ratio0.1_iter20_trial50GPTanimoto.npy', allow_pickle=True).item()\n",
    "#mol2vec_gprq_pca9 = np.load('./results/fair_split_trial50_pca0.9/lipo_mol2vec_ratio0.1_iter20_trial50GPRQ.npy', allow_pickle=True).item()\n",
    "#mol2vec_gprq_pca8 = np.load('./results/fair_split_trial50_pca0.8/lipo_mol2vec_ratio0.1_iter20_trial50GPRQ.npy', allow_pickle=True).item()"
   ]
  },
  {
   "cell_type": "code",
   "execution_count": 4,
   "id": "4fb08dc8-e5c4-491f-b1a5-08beda8e5b49",
   "metadata": {},
   "outputs": [
    {
     "ename": "NameError",
     "evalue": "name 'e3fp_tanimoto_pca9' is not defined",
     "output_type": "error",
     "traceback": [
      "\u001b[0;31m---------------------------------------------------------------------------\u001b[0m",
      "\u001b[0;31mNameError\u001b[0m                                 Traceback (most recent call last)",
      "Cell \u001b[0;32mIn[4], line 7\u001b[0m\n\u001b[1;32m      5\u001b[0m mordred_gprq_pca9_best_observed \u001b[38;5;241m=\u001b[39m np\u001b[38;5;241m.\u001b[39marray(mordred_gprq_pca9[\u001b[38;5;124m'\u001b[39m\u001b[38;5;124mbests_over_trials\u001b[39m\u001b[38;5;124m'\u001b[39m])\n\u001b[1;32m      6\u001b[0m ecfp_tanimoto_pca9_best_observed \u001b[38;5;241m=\u001b[39m np\u001b[38;5;241m.\u001b[39marray(ecfp_tanimoto_pca9[\u001b[38;5;124m'\u001b[39m\u001b[38;5;124mbests_over_trials\u001b[39m\u001b[38;5;124m'\u001b[39m])\n\u001b[0;32m----> 7\u001b[0m e3fp_tanimoto_pca9_best_observed \u001b[38;5;241m=\u001b[39m np\u001b[38;5;241m.\u001b[39marray(\u001b[43me3fp_tanimoto_pca9\u001b[49m[\u001b[38;5;124m'\u001b[39m\u001b[38;5;124mbests_over_trials\u001b[39m\u001b[38;5;124m'\u001b[39m])\n\u001b[1;32m      8\u001b[0m \u001b[38;5;66;03m#mol2vec_gprq_pca9_best_observed = np.array(mol2vec_gprq_pca9['bests_over_trials'])\u001b[39;00m\n\u001b[1;32m      9\u001b[0m rdkit_gprq_pca8_best_observed \u001b[38;5;241m=\u001b[39m np\u001b[38;5;241m.\u001b[39marray(rdkit_gprq_pca8[\u001b[38;5;124m'\u001b[39m\u001b[38;5;124mbests_over_trials\u001b[39m\u001b[38;5;124m'\u001b[39m])\n",
      "\u001b[0;31mNameError\u001b[0m: name 'e3fp_tanimoto_pca9' is not defined"
     ]
    }
   ],
   "source": [
    "num_trial = len(rdkit_gprq_pca9['bests_over_trials'])\n",
    "num_iter = len(rdkit_gprq_pca9['bests_over_trials'][0])\n",
    "\n",
    "rdkit_gprq_pca9_best_observed = np.array(rdkit_gprq_pca9['bests_over_trials'])\n",
    "mordred_gprq_pca9_best_observed = np.array(mordred_gprq_pca9['bests_over_trials'])\n",
    "ecfp_tanimoto_pca9_best_observed = np.array(ecfp_tanimoto_pca9['bests_over_trials'])\n",
    "e3fp_tanimoto_pca9_best_observed = np.array(e3fp_tanimoto_pca9['bests_over_trials'])\n",
    "#mol2vec_gprq_pca9_best_observed = np.array(mol2vec_gprq_pca9['bests_over_trials'])\n",
    "rdkit_gprq_pca8_best_observed = np.array(rdkit_gprq_pca8['bests_over_trials'])\n",
    "mordred_gprq_pca8_best_observed = np.array(mordred_gprq_pca8['bests_over_trials'])\n",
    "ecfp_tanimoto_pca8_best_observed = np.array(ecfp_tanimoto_pca8['bests_over_trials'])\n",
    "e3fp_tanimoto_pca8_best_observed = np.array(e3fp_tanimoto_pca8['bests_over_trials'])\n",
    "#mol2vec_gprq_pca8_best_observed = np.array(mol2vec_gprq_pca8['bests_over_trials'])\n"
   ]
  },
  {
   "cell_type": "code",
   "execution_count": null,
   "id": "618c6ae6-7bea-491d-9c35-841acc7f9e3b",
   "metadata": {},
   "outputs": [],
   "source": [
    "import matplotlib.pyplot as plt\n",
    "import pandas as pd\n",
    "import seaborn as sns\n",
    "def ci(y):\n",
    "    return 1.96 * y.std(axis=0) / np.sqrt(num_trial)\n",
    "\n",
    "#plot the df data and add \n",
    "fig, ax = plt.subplots(1, 1, figsize=(8, 6))\n",
    "#plot errorbar from the mean and std of the best observed value\n",
    "ax.errorbar(x=np.arange(num_iter), y=rdkit_gprq_pca9_best_observed.mean(axis=0), yerr=ci(rdkit_gprq_pca9_best_observed), label=\"rdkit_gprq_pca0.9\", linewidth=1.5)\n",
    "ax.errorbar(x=np.arange(num_iter), y=mordred_gprq_pca9_best_observed.mean(axis=0), yerr=ci(mordred_gprq_pca9_best_observed), label=\"mordred_gprq_pca0.9\", linewidth=1.5)\n",
    "ax.errorbar(x=np.arange(num_iter), y=ecfp_tanimoto_pca9_best_observed.mean(axis=0), yerr=ci(ecfp_tanimoto_pca9_best_observed), label=\"ecfp_gptani_pca0.9\", linewidth=1.5)\n",
    "ax.errorbar(x=np.arange(num_iter), y=e3fp_tanimoto_pca9_best_observed.mean(axis=0), yerr=ci(e3fp_tanimoto_pca9_best_observed), label=\"e3fp_gptani_pca0.9\", linewidth=1.5)\n",
    "#ax.errorbar(x=np.arange(num_iter), y=mol2vec_gprq_pca9_best_observed.mean(axis=0), yerr=ci(mol2vec_gprq_pca9_best_observed), label=\"mol2vec_gprq_pca0.9\", linewidth=1.5)\n",
    "ax.errorbar(x=np.arange(num_iter), y=rdkit_gprq_pca8_best_observed.mean(axis=0), yerr=ci(rdkit_gprq_pca8_best_observed), label=\"rdkit_gprq_pca0.8\", linewidth=1.5)\n",
    "ax.errorbar(x=np.arange(num_iter), y=mordred_gprq_pca8_best_observed.mean(axis=0), yerr=ci(mordred_gprq_pca8_best_observed), label=\"mordred_gprq_pca0.8\", linewidth=1.5)\n",
    "ax.errorbar(x=np.arange(num_iter), y=ecfp_tanimoto_pca8_best_observed.mean(axis=0), yerr=ci(ecfp_tanimoto_pca8_best_observed), label=\"ecfp_gptani_pca0.8\", linewidth=1.5)\n",
    "ax.errorbar(x=np.arange(num_iter), y=e3fp_tanimoto_pca8_best_observed.mean(axis=0), yerr=ci(e3fp_tanimoto_pca8_best_observed), label=\"e3fp_gptani_pca0.8\", linewidth=1.5)\n",
    "#ax.errorbar(x=np.arange(num_iter), y=mol2vec_gprq_pca8_best_observed.mean(axis=0), yerr=ci(mol2vec_gprq_pca8_best_observed), label=\"mol2vec_gprq_pca0.8\", linewidth=1.5)\n",
    "\n",
    "\n",
    "\n",
    "plt.xticks(range(0,20))\n",
    "\n",
    "#set labels\n",
    "ax.set(\n",
    "    xlabel=\"number of observations (beyond initial points)\",\n",
    "    ylabel=\"best objective value\",\n",
    ")\n",
    "ax.set_ylim(bottom=1.3)\n",
    "ax.legend(loc=\"lower right\")"
   ]
  },
  {
   "cell_type": "code",
   "execution_count": null,
   "id": "d60272b0-85d3-4f8d-8781-df2ad2f0de5f",
   "metadata": {},
   "outputs": [],
   "source": [
    "lipo_threshold = 1.6\n",
    "# count the number of molecules added in each iteration are above the threshold\n",
    "rdkit_gprq_pca9_hit_count = hit_count(y, threshold=lipo_threshold, mol_added=rdkit_gprq_pca9['mol_added'])\n",
    "mordred_gprq_pca9_hit_count = hit_count(y, threshold=lipo_threshold, mol_added=mordred_gprq_pca9['mol_added'])\n",
    "ecfp_tanimoto_pca9_hit_count = hit_count(y, threshold=lipo_threshold, mol_added=ecfp_tanimoto_pca9['mol_added'])\n",
    "e3fp_tanimoto_pca9_hit_count = hit_count(y, threshold=lipo_threshold, mol_added=e3fp_tanimoto_pca9['mol_added'])\n",
    "#mol2vec_gprq_pca9_hit_count = hit_count(y, threshold=lipo_threshold, mol_added=mol2vec_gprq_pca9['mol_added'])\n",
    "rdkit_gprq_pca8_hit_count = hit_count(y, threshold=lipo_threshold, mol_added=rdkit_gprq_pca8['mol_added'])\n",
    "mordred_gprq_pca8_hit_count = hit_count(y, threshold=lipo_threshold, mol_added=mordred_gprq_pca8['mol_added'])\n",
    "ecfp_tanimoto_pca8_hit_count = hit_count(y, threshold=lipo_threshold, mol_added=ecfp_tanimoto_pca8['mol_added'])\n",
    "e3fp_tanimoto_pca8_hit_count = hit_count(y, threshold=lipo_threshold, mol_added=e3fp_tanimoto_pca8['mol_added'])\n",
    "#mol2vec_gprq_pca8_hit_count = hit_count(y, threshold=lipo_threshold, mol_added=mol2vec_gprq_pca8['mol_added'])\n",
    "\n",
    "#plot the df data and add \n",
    "fig, ax = plt.subplots(1, 1, figsize=(8, 6))\n",
    "#plot errorbar from the mean and std of the best observed value\n",
    "ax.errorbar(x=np.arange(num_iter), y=rdkit_gprq_pca9_hit_count.mean(axis=0), yerr=ci(rdkit_gprq_pca9_hit_count), label=\"rdkit_gprq_pca0.9\", linewidth=1.5)\n",
    "ax.errorbar(x=np.arange(num_iter), y=mordred_gprq_pca9_hit_count.mean(axis=0), yerr=ci(mordred_gprq_pca9_hit_count), label=\"mordred_gprq_pca0.9\", linewidth=1.5)\n",
    "ax.errorbar(x=np.arange(num_iter), y=ecfp_tanimoto_pca9_hit_count.mean(axis=0), yerr=ci(ecfp_tanimoto_pca9_hit_count), label=\"ecfp_gptani_pca0.9\", linewidth=1.5)\n",
    "ax.errorbar(x=np.arange(num_iter), y=e3fp_tanimoto_pca9_hit_count.mean(axis=0), yerr=ci(e3fp_tanimoto_pca9_hit_count), label=\"e3fp_gptani_pca0.9\", linewidth=1.5)\n",
    "#ax.errorbar(x=np.arange(num_iter), y=mol2vec_gprq_pca9_hit_count.mean(axis=0), yerr=ci(mol2vec_gprq_pca9_hit_count), label=\"mol2vec_gprq_pca0.9\", linewidth=1.5)\n",
    "ax.errorbar(x=np.arange(num_iter), y=rdkit_gprq_pca8_hit_count.mean(axis=0), yerr=ci(rdkit_gprq_pca8_hit_count), label=\"rdkit_gprq_pca0.8\", linewidth=1.5)\n",
    "ax.errorbar(x=np.arange(num_iter), y=mordred_gprq_pca8_hit_count.mean(axis=0), yerr=ci(mordred_gprq_pca8_hit_count), label=\"mordred_gprq_pca0.8\", linewidth=1.5)\n",
    "ax.errorbar(x=np.arange(num_iter), y=ecfp_tanimoto_pca8_hit_count.mean(axis=0), yerr=ci(ecfp_tanimoto_pca8_hit_count), label=\"ecfp_gptani_pca0.8\", linewidth=1.5)\n",
    "ax.errorbar(x=np.arange(num_iter), y=e3fp_tanimoto_pca8_hit_count.mean(axis=0), yerr=ci(e3fp_tanimoto_pca8_hit_count), label=\"e3fp_gptani_pca0.8\", linewidth=1.5)\n",
    "#ax.errorbar(x=np.arange(num_iter), y=mol2vec_gprq_pca8_hit_count.mean(axis=0), yerr=ci(mol2vec_gprq_pca8_hit_count), label=\"mol2vec_gprq_pca0.8\", linewidth=1.5)\n",
    "\n",
    "\n",
    "plt.xticks(range(0,20))\n",
    "\n",
    "#set labels\n",
    "ax.set(\n",
    "    xlabel=\"number of observations (beyond initial points)\",\n",
    "    ylabel=\"number of hit molecules above threshold\",\n",
    ")\n",
    "ax.set_ylim(bottom=0.0)\n",
    "ax.legend(loc=\"upper left\")"
   ]
  },
  {
   "cell_type": "code",
   "execution_count": null,
   "id": "0d554964-c1cf-4705-8de7-0340714aad6d",
   "metadata": {},
   "outputs": [],
   "source": []
  },
  {
   "cell_type": "code",
   "execution_count": null,
   "id": "93f4e7f8-3d34-418b-bd76-1116361e399b",
   "metadata": {},
   "outputs": [],
   "source": []
  }
 ],
 "metadata": {
  "kernelspec": {
   "display_name": "Python 3 (ipykernel)",
   "language": "python",
   "name": "python3"
  },
  "language_info": {
   "codemirror_mode": {
    "name": "ipython",
    "version": 3
   },
   "file_extension": ".py",
   "mimetype": "text/x-python",
   "name": "python",
   "nbconvert_exporter": "python",
   "pygments_lexer": "ipython3",
   "version": "3.9.18"
  }
 },
 "nbformat": 4,
 "nbformat_minor": 5
}
