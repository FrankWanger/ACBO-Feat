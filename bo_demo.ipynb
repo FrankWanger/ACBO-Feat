{
 "cells": [
  {
   "cell_type": "markdown",
   "metadata": {},
   "source": [
    "# Obtaining BO results from different molecule representation"
   ]
  },
  {
   "cell_type": "markdown",
   "metadata": {},
   "source": [
    "## Step 1: Load Datasets\n",
    "In the present demonstration, we will use a model dataset *LIPO* correlating molecular structure with lipophilicity, a typical quantitative-structure property relationship (QSPR) modelling task.\n",
    "\n",
    "Hersey, A. ChEMBL Deposited Data Set - AZ dataset; 2015. https://doi.org/10.6019/chembl3301361"
   ]
  },
  {
   "cell_type": "code",
   "execution_count": 1,
   "metadata": {},
   "outputs": [
    {
     "name": "stdout",
     "output_type": "stream",
     "text": [
      "Training set size: (420, 198)\n",
      "Candidate set size: (3780, 198)\n",
      "Best Observed in Training Set: 1.8142925537876984\n",
      "Best Observed in Full Set: 1.9299001765826398\n"
     ]
    }
   ],
   "source": [
    "import numpy as np\n",
    "from data_helper import gen_data_feat,load_lipo_feat\n",
    "from sklearn.model_selection import train_test_split\n",
    "\n",
    "from sklearn.preprocessing import StandardScaler\n",
    "from sklearn.decomposition import PCA\n",
    "\n",
    "featurizer_name = 'rdkit'\n",
    "# Here we adapt 2/98 split for training and candidate set\n",
    "partition_ratio = 0.1\n",
    "\n",
    "# Load from pre-featurized data\n",
    "X, y = load_lipo_feat(filename='data/lipo_{}.csv'.format(featurizer_name))\n",
    "\n",
    "# Split data into start training and candidate sets\n",
    "X_train, X_candidate, y_train, y_candidate = train_test_split(\n",
    "    X, y,\n",
    "    test_size=1-partition_ratio,\n",
    "    random_state=1,\n",
    "    shuffle=True\n",
    ")\n",
    "\n",
    "# Standardize input data if needed\n",
    "scaler = StandardScaler()\n",
    "X_train = scaler.fit_transform(X_train)\n",
    "X_candidate = scaler.transform(X_candidate)\n",
    "\n",
    "# Apply PCA to reduce dimensionality (optional)\n",
    "# pca = PCA(n_components=50)\n",
    "# X_train = pca.fit_transform(X_train)\n",
    "# X_cadidate = pca.transform(X_cadidate)\n",
    "\n",
    "print('Training set size:', X_train.shape)\n",
    "print('Candidate set size:', X_candidate.shape)\n",
    "\n",
    "print('Best Observed in Training Set:', y_train.max())\n",
    "print('Best Observed in Full Set:', y.max())"
   ]
  },
  {
   "cell_type": "markdown",
   "metadata": {},
   "source": [
    "## Step2: Prepare for Surrogate"
   ]
  },
  {
   "cell_type": "markdown",
   "metadata": {},
   "source": [
    "We here first import surrogates to do a preliminary modelling test"
   ]
  },
  {
   "cell_type": "code",
   "execution_count": 2,
   "metadata": {},
   "outputs": [
    {
     "name": "stderr",
     "output_type": "stream",
     "text": [
      "/Users/fanjin/anaconda3/envs/bo/lib/python3.9/site-packages/tqdm/auto.py:21: TqdmWarning: IProgress not found. Please update jupyter and ipywidgets. See https://ipywidgets.readthedocs.io/en/stable/user_install.html\n",
      "  from .autonotebook import tqdm as notebook_tqdm\n"
     ]
    }
   ],
   "source": [
    "from sklearn.metrics import r2_score\n",
    "\n",
    "from surrogates import Surrogate\n",
    "from surrogates import RandomForestSurrogate\n",
    "from surrogates import GPTanimotoSurrogate\n",
    "from surrogates import GPRQSurrogate"
   ]
  },
  {
   "cell_type": "code",
   "execution_count": null,
   "metadata": {},
   "outputs": [],
   "source": [
    "# Define surrogate model.\n",
    "test_surrogate = GPRQSurrogate()\n",
    "test_surrogate.load_data(train_x=X_train, train_y=y_train)\n",
    "\n",
    "# Fit surrogate model.\n",
    "test_surrogate.fit()\n",
    "\n",
    "# Get means and uncertainties from surrogate model.\n",
    "means, uncertainties = test_surrogate.predict_means_and_stddevs(X_candidate)\n",
    "print(f'Test shape: {X_candidate.shape}')\n",
    "print(f'Mean shape: {means.shape}')\n",
    "print(f'Uncertainty shape: {uncertainties.shape}')\n",
    "\n",
    "# Report results of model fit.\n",
    "print(f'R^2 Score on test set: {r2_score(y_candidate, means)}')"
   ]
  },
  {
   "cell_type": "markdown",
   "metadata": {},
   "source": [
    "# Step3: Setup BO"
   ]
  },
  {
   "cell_type": "markdown",
   "metadata": {},
   "source": [
    "We first run on a single trial of BO, the iteration will be 10 rounds."
   ]
  },
  {
   "cell_type": "code",
   "execution_count": 3,
   "metadata": {},
   "outputs": [],
   "source": [
    "from surrogates import acqf_EI\n",
    "######################\n",
    "###Define setting#####\n",
    "######################\n",
    "\n",
    "num_iter = 20\n",
    "num_trial = 1\n",
    "\n",
    "\n",
    "###################################\n",
    "#####Train Surrogates##############\n",
    "###################################\n",
    "\n",
    "my_surrogate = GPRQSurrogate()\n",
    "my_surrogate.load_data(train_x=X_train, train_y=y_train)\n",
    "best_observed = y_train.max()\n",
    "\n",
    "#initialize the containers of new points and best observed values\n",
    "X_new_candidates , y_new_candidates= [],[]\n",
    "current_bests = []\n",
    "\n",
    "for iter in range(1,num_iter+1):\n",
    "\n",
    "    # Fit surrogate model.\n",
    "    my_surrogate.fit()\n",
    "\n",
    "    ######################################################################\n",
    "    #####Eval element in candidate set and max Acquisition function#######\n",
    "    ######################################################################\n",
    "\n",
    "    means, uncertainties = my_surrogate.predict_means_and_stddevs(X_candidate)\n",
    "        \n",
    "    # Calculate the Expected Improvement\n",
    "    ei = acqf_EI(means, uncertainties, best_observed)\n",
    "\n",
    "    # Find the index with the highest Expected Improvement\n",
    "    new_index = np.argmax(ei)\n",
    "    new_x = X_candidate[new_index]\n",
    "    new_y = y_candidate[new_index]\n",
    "\n",
    "    # Add the new point to the training set\n",
    "    my_surrogate.add_data(new_x, new_y)\n",
    "\n",
    "    # Remove the new point from the candidate set\n",
    "    X_candidate = np.delete(X_candidate, new_index, axis=0)\n",
    "    y_candidate = np.delete(y_candidate, new_index)\n",
    "\n",
    "    # Update the best observed value\n",
    "    if new_y > best_observed:\n",
    "        best_observed = new_y\n",
    "\n",
    "    # Record the new point and best observed value at this iteration\n",
    "    X_new_candidates , y_new_candidates = np.append(X_new_candidates, new_x), np.append(y_new_candidates, new_y)\n",
    "    current_bests = np.append(current_bests, best_observed)\n",
    "    "
   ]
  },
  {
   "cell_type": "markdown",
   "metadata": {},
   "source": [
    "# Step4: Visualize Results"
   ]
  },
  {
   "cell_type": "code",
   "execution_count": 4,
   "metadata": {},
   "outputs": [
    {
     "data": {
      "text/plain": [
       "[<matplotlib.lines.Line2D at 0x7fdc6dcbbf10>]"
      ]
     },
     "execution_count": 4,
     "metadata": {},
     "output_type": "execute_result"
    },
    {
     "data": {
      "image/png": "[encoded data removed]",
      "text/plain": [
       "<Figure size 640x480 with 1 Axes>"
      ]
     },
     "metadata": {},
     "output_type": "display_data"
    }
   ],
   "source": [
    "import matplotlib.pyplot as plt\n",
    "\n",
    "# Calculate Regret\n",
    "\n",
    "regret = np.max(y) - current_bests\n",
    "\n",
    "plt.plot(range(1, num_iter+1), regret, label='Best Observed')"
   ]
  }
 ],
 "metadata": {
  "kernelspec": {
   "display_name": "Python 3 (ipykernel)",
   "language": "python",
   "name": "python3"
  },
  "language_info": {
   "codemirror_mode": {
    "name": "ipython",
    "version": 3
   },
   "file_extension": ".py",
   "mimetype": "text/x-python",
   "name": "python",
   "nbconvert_exporter": "python",
   "pygments_lexer": "ipython3",
   "version": "3.9.18"
  }
 },
 "nbformat": 4,
 "nbformat_minor": 4
}
