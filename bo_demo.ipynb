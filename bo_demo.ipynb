{
 "cells": [
  {
   "cell_type": "markdown",
   "metadata": {},
   "source": [
    "# Obtaining BO results from different molecule representation"
   ]
  },
  {
   "cell_type": "markdown",
   "metadata": {},
   "source": [
    "## Step 1: Load Datasets\n",
    "In the present demonstration, we will use a model dataset *LIPO* correlating molecular structure with lipophilicity, a typical quantitative-structure property relationship (QSPR) modelling task.\n",
    "\n",
    "Hersey, A. ChEMBL Deposited Data Set - AZ dataset; 2015. https://doi.org/10.6019/chembl3301361"
   ]
  },
  {
   "cell_type": "code",
   "execution_count": 1,
   "metadata": {},
   "outputs": [],
   "source": [
    "import numpy as np\n",
    "from data_helper import gen_data_feat,load_lipo_feat\n",
    "from sklearn.model_selection import train_test_split\n",
    "\n",
    "from sklearn.preprocessing import StandardScaler\n",
    "from sklearn.decomposition import PCA\n",
    "\n",
    "featurizer_name = 'rdkit'\n",
    "partition_ratio = 0.2\n",
    "\n",
    "# Load from pre-featurized data\n",
    "X, y = load_lipo_feat(filename='data/lipo_{}.csv'.format(featurizer_name))\n",
    "\n",
    "# Split data into start training and candidate sets\n",
    "X_train, X_candidate, y_train, y_candidate = train_test_split(\n",
    "    X, y,\n",
    "    test_size=1-partition_ratio,\n",
    "    random_state=1,\n",
    "    shuffle=True\n",
    ")\n",
    "\n",
    "# Standardize input data if needed\n",
    "scaler = StandardScaler()\n",
    "X_train = scaler.fit_transform(X_train)\n",
    "X_candidate = scaler.transform(X_candidate)\n",
    "\n",
    "# Apply PCA to reduce dimensionality (optional)\n",
    "# pca = PCA(n_components=50)\n",
    "# X_train = pca.fit_transform(X_train)\n",
    "# X_cadidate = pca.transform(X_cadidate)\n"
   ]
  },
  {
   "cell_type": "markdown",
   "metadata": {},
   "source": [
    "## Step2: Prepare for BO"
   ]
  },
  {
   "cell_type": "markdown",
   "metadata": {},
   "source": [
    "We here first import surrogates to do a preliminary modelling test"
   ]
  },
  {
   "cell_type": "code",
   "execution_count": 2,
   "metadata": {},
   "outputs": [
    {
     "name": "stderr",
     "output_type": "stream",
     "text": [
      "/Users/christinaschenk/Documents/Project-BOHackathon/bofeat/lib/python3.9/site-packages/tqdm/auto.py:21: TqdmWarning: IProgress not found. Please update jupyter and ipywidgets. See https://ipywidgets.readthedocs.io/en/stable/user_install.html\n",
      "  from .autonotebook import tqdm as notebook_tqdm\n"
     ]
    }
   ],
   "source": [
    "from sklearn.metrics import r2_score\n",
    "\n",
    "from surrogates import Surrogate\n",
    "from surrogates import RandomForestSurrogate\n",
    "from surrogates import GPTanimotoSurrogate\n",
    "from surrogates import GPRQSurrogate"
   ]
  },
  {
   "cell_type": "code",
   "execution_count": 3,
   "metadata": {},
   "outputs": [
    {
     "name": "stdout",
     "output_type": "stream",
     "text": [
      "MultivariateNormal(loc: torch.Size([3360]))\n",
      "Test shape: (3360, 198)\n",
      "Mean shape: (3360,)\n",
      "Uncertainty shape: (3360,)\n",
      "R^2 Score on test set: 0.5528199295252667\n"
     ]
    }
   ],
   "source": [
    "# Define surrogate model.\n",
    "my_surrogate = GPRQSurrogate()\n",
    "my_surrogate.load_data(train_x=X_train, train_y=y_train)\n",
    "\n",
    "# Fit surrogate model.\n",
    "my_surrogate.fit()\n",
    "\n",
    "# Get means and uncertainties from surrogate model.\n",
    "means, uncertainties = my_surrogate.predict_means_and_stddevs(X_candidate)\n",
    "print(f'Test shape: {X_candidate.shape}')\n",
    "print(f'Mean shape: {means.shape}')\n",
    "print(f'Uncertainty shape: {uncertainties.shape}')\n",
    "\n",
    "# Report results of model fit.\n",
    "print(f'R^2 Score on test set: {r2_score(y_candidate, means)}')"
   ]
  },
  {
   "cell_type": "code",
   "execution_count": null,
   "metadata": {},
   "outputs": [],
   "source": []
  }
 ],
 "metadata": {
  "kernelspec": {
   "display_name": "Python 3 (ipykernel)",
   "language": "python",
   "name": "python3"
  },
  "language_info": {
   "codemirror_mode": {
    "name": "ipython",
    "version": 3
   },
   "file_extension": ".py",
   "mimetype": "text/x-python",
   "name": "python",
   "nbconvert_exporter": "python",
   "pygments_lexer": "ipython3",
   "version": "3.9.18"
  }
 },
 "nbformat": 4,
 "nbformat_minor": 4
}
